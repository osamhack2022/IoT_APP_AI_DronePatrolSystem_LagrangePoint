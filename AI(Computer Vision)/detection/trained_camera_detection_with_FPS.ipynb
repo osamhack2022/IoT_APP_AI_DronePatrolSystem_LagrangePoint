{
  "nbformat": 4,
  "nbformat_minor": 0,
  "metadata": {
    "colab": {
      "provenance": [],
      "collapsed_sections": []
    },
    "kernelspec": {
      "name": "python3",
      "display_name": "Python 3"
    },
    "language_info": {
      "name": "python"
    }
  },
  "cells": [
    {
      "cell_type": "code",
      "execution_count": null,
      "metadata": {
        "id": "6b9dI6cihL12"
      },
      "outputs": [],
      "source": [
        "import picamera\n",
        "import time\n",
        "import cv2\n",
        "import tensorflow as tf\n",
        "import numpy as np\n",
        "import os\n",
        "import sys\n",
        "from glob import glob"
      ]
    },
    {
      "cell_type": "code",
      "source": [
        "!git clone https://github.com/pjreddie/darknet"
      ],
      "metadata": {
        "colab": {
          "base_uri": "https://localhost:8080/"
        },
        "id": "X2TZDbE3eYF4",
        "outputId": "d4ec17b8-9d48-4499-ec42-218d7b605371"
      },
      "execution_count": null,
      "outputs": [
        {
          "output_type": "stream",
          "name": "stdout",
          "text": [
            "Cloning into 'darknet'...\n",
            "remote: Enumerating objects: 5955, done.\u001b[K\n",
            "remote: Total 5955 (delta 0), reused 0 (delta 0), pack-reused 5955\u001b[K\n",
            "Receiving objects: 100% (5955/5955), 6.37 MiB | 12.75 MiB/s, done.\n",
            "Resolving deltas: 100% (3932/3932), done.\n"
          ]
        }
      ]
    },
    {
      "cell_type": "code",
      "source": [
        "!wget https://pjreddie.com/media/files/yolov3-tiny.weights"
      ],
      "metadata": {
        "colab": {
          "base_uri": "https://localhost:8080/"
        },
        "id": "5cZJYq8EeYqY",
        "outputId": "768be32b-0c1b-4cd7-994b-0c38eb6fcd7f"
      },
      "execution_count": null,
      "outputs": [
        {
          "output_type": "stream",
          "name": "stdout",
          "text": [
            "--2022-10-10 01:21:35--  https://pjreddie.com/media/files/yolov3-tiny.weights\n",
            "Resolving pjreddie.com (pjreddie.com)... 128.208.4.108\n",
            "Connecting to pjreddie.com (pjreddie.com)|128.208.4.108|:443... connected.\n",
            "HTTP request sent, awaiting response... 200 OK\n",
            "Length: 35434956 (34M) [application/octet-stream]\n",
            "Saving to: ‘yolov3-tiny.weights’\n",
            "\n",
            "yolov3-tiny.weights 100%[===================>]  33.79M  13.9MB/s    in 2.4s    \n",
            "\n",
            "2022-10-10 01:21:38 (13.9 MB/s) - ‘yolov3-tiny.weights’ saved [35434956/35434956]\n",
            "\n"
          ]
        }
      ]
    },
    {
      "cell_type": "code",
      "source": [
        "# Yolov3-tiny model load\n",
        "net = cv2.dnn.readNet(\"/content/drive/MyDrive/darknet-master/results/train2/lagrange_yolov3-tiny_4000.weights\", \"/content/drive/MyDrive/darknet-master/custom/lagrange_yolov3-tiny.cfg\")\n",
        "classes = []\n",
        "with open(\"/content/drive/MyDrive/darknet-master/custom/classes.names\", \"r\") as f:\n",
        "    classes = [line.strip() for line in f.readlines()]\n",
        "layer_names = net.getLayerNames()\n",
        "output_layers = [layer_names[i - 1] for i in net.getUnconnectedOutLayers()]\n",
        "colors = ((0,255,0),(0,0,255))"
      ],
      "metadata": {
        "id": "8Ou0iPcoeybF"
      },
      "execution_count": null,
      "outputs": []
    },
    {
      "cell_type": "code",
      "source": [
        "cap = cv2.VideoCapture(-1) # 0, 1, 2 순서로 연결된 카메라 인덱스번호, 오류발생시 -1 넣어주기\n",
        "\n",
        "fourcc = cv2.VideoWriter_fourcc('F', 'M', 'P', '4')\n",
        "#movie = cv2.VideoWriter('detection.mpeg4', fourcc, 20.0, (640,480)) # fps, size\n",
        "prevTime = time.time()\n",
        "while(cap.isOpened()): # 카메라 켜져있을 때 반복실행\n",
        "  ret, frame = cap.read() # 프레임 하나 읽고 값 반환 (ret은 boolean, frame은 사진이 배열로 들어감)\n",
        "  \n",
        "  if(ret):\n",
        "    height, width, channels = frame.shape\n",
        "    blob = cv2.dnn.blobFromImage(frame, 0.00392,(416,416  ), (0,0,0), True, crop=False)\n",
        "\n",
        "    net.setInput(blob)\n",
        "    outs = net.forward(output_layers)\n",
        "\n",
        "    # confidence가 0.5 이상이면 해당 Object라고 탐지\n",
        "    class_ids = []\n",
        "    confidences = []\n",
        "    boxes = []\n",
        "    for out in outs:\n",
        "      for detection in out:\n",
        "        scores = detection[5:]\n",
        "        class_id = np.argmax(scores)\n",
        "        confidence = scores[class_id]\n",
        "        if confidence > 0.5:\n",
        "          print('detected', sclasses[class_id])\n",
        "          center_x = int(detection[0] * width)\n",
        "          center_y = int(detection[1] * height)\n",
        "          w = int(detection[2] * width)\n",
        "          h = int(detection[3] * height)            \n",
        "          x = int(center_x - w / 2)\n",
        "          y = int(center_y - h / 2)\n",
        "          boxes.append([x, y, w, h])\n",
        "          confidences.append(float(confidence))\n",
        "          class_ids.append(class_id)\n",
        "\n",
        "    # 박스 중복을 방지하기 위해 noise를 지워주는 과정\n",
        "    indexes = cv2.dnn.NMSBoxes(boxes, confidences, 0.5, 0.4)\n",
        "\n",
        "    font = cv2.FONT_HERSHEY_PLAIN\n",
        "    for i in range(len(boxes)):\n",
        "      if i in indexes:\n",
        "        x, y, w, h = boxes[i]\n",
        "        label = str(classes[class_ids[i]])\n",
        "        color = colors[class_ids[i]]\n",
        "        cv2.rectangle(frame, (x, y), (x + w, y + h), color, 2)\n",
        "        cv2.putText(frame, label+' '+str(confidences[i]), (x, y + 30), font, 1, color, 2)\n",
        "\n",
        "     # 프레임 수 계산\n",
        "    curTime = time.time()\t# current time\n",
        "    fps = 1 / (curTime - prevTime)\n",
        "    prevTime = curTime\n",
        "    # 프레임 수 문자열에 저장\n",
        "    fps_str = \"FPS : %0.1f\" %fps\n",
        "\n",
        "    # 문자열 표시\n",
        "    cv2.putText(frame, fps_str, (0, 25), cv2.FONT_HERSHEY_SIMPLEX, 1, (0, 255, 0))\n",
        "\n",
        "    cv2.imshow('frame', frame)\n",
        "    k = cv2.waitKey(1) & 0xFF\n",
        "    if(k==27):\n",
        "      break\n",
        "\n",
        "\n",
        "\n",
        "\n",
        "cap.release()\n",
        "cv2.destroyAllWindows()"
      ],
      "metadata": {
        "id": "CbxqT3x_ldKI"
      },
      "execution_count": null,
      "outputs": []
    },
    {
      "cell_type": "code",
      "source": [],
      "metadata": {
        "id": "K4bE5bo3l17i",
        "colab": {
          "base_uri": "https://localhost:8080/"
        },
        "outputId": "30db2d74-04cf-48a5-83cc-65108a5b8bc7"
      },
      "execution_count": null,
      "outputs": [
        {
          "output_type": "stream",
          "name": "stdout",
          "text": [
            "Mounted at /content/drive\n"
          ]
        }
      ]
    },
    {
      "cell_type": "code",
      "source": [],
      "metadata": {
        "id": "7yIXhN9aAzJH"
      },
      "execution_count": null,
      "outputs": []
    }
  ]
}