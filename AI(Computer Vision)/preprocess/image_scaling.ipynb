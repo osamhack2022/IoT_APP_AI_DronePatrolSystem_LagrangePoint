{
  "nbformat": 4,
  "nbformat_minor": 0,
  "metadata": {
    "colab": {
      "provenance": [],
      "collapsed_sections": []
    },
    "kernelspec": {
      "name": "python3",
      "display_name": "Python 3"
    },
    "language_info": {
      "name": "python"
    }
  },
  "cells": [
    {
      "cell_type": "code",
      "execution_count": 1,
      "metadata": {
        "id": "wVXouavqRlbK"
      },
      "outputs": [],
      "source": [
        "import cv2\n",
        "from google.colab.patches import cv2_imshow\n",
        "import os\n"
      ]
    },
    {
      "cell_type": "code",
      "source": [
        "from google.colab import drive\n",
        "drive.mount('/content/drive')\n"
      ],
      "metadata": {
        "colab": {
          "base_uri": "https://localhost:8080/"
        },
        "id": "-Ssc_Kp1Rn4I",
        "outputId": "d6d15f1a-ee95-489c-cd11-ff39cabe6558"
      },
      "execution_count": 2,
      "outputs": [
        {
          "output_type": "stream",
          "name": "stdout",
          "text": [
            "Mounted at /content/drive\n"
          ]
        }
      ]
    },
    {
      "cell_type": "markdown",
      "source": [
        "# 3840 * 2160 * 3 --> 640 * 360 * 3\n",
        "1/6 Scaling\n"
      ],
      "metadata": {
        "id": "pDpIfxZfR9UN"
      }
    },
    {
      "cell_type": "code",
      "source": [
        "img_path = '/content/drive/MyDrive/Colab Notebooks/드론 이동체 인지 영상(전방 고정)/Training/농약살포_진영_평택_밀양01/2020-12-15/Jinyeong/land/AM/'\n",
        "\n",
        "img_list = os.listdir(img_path)\n",
        "#print(img_list)\n",
        "#img = cv2.imread(img_path+img_list[10])\n",
        "#cv2.imshow 함수를 cv2_imshow로 변경한다.\n",
        "#print(img.shape) \n",
        "for i in range(len(img_list)):\n",
        "  img = cv2.imread(img_path+img_list[i])\n",
        "  img = cv2.resize(img, (640,360))\n",
        "  cv2_imshow(img)\n",
        "  cv2.waitKey(0)\n",
        "cv2.destroyAllWindows()"
      ],
      "metadata": {
        "id": "w-6-hp9sRsFn"
      },
      "execution_count": null,
      "outputs": []
    },
    {
      "cell_type": "code",
      "source": [
        "def img_scaling(img_path, dir_path):\n",
        "  img_list = os.listdir(img_path)\n",
        "  print(\"before img list length: \",len(img_list))\n",
        "\n",
        "  for i in range(len(img_list)):\n",
        "    img = cv2.imread(img_path+'/'+img_list[i])\n",
        "    img = cv2.resize(img, (640,360))\n",
        "    cv2.imwrite(dir_path+'/'+img_list[i], img)\n",
        "\n",
        "  print(\"destin img length: \", len(os.listdir(dir_path)))"
      ],
      "metadata": {
        "id": "CWYuaY9lSQNI"
      },
      "execution_count": 5,
      "outputs": []
    },
    {
      "cell_type": "code",
      "source": [
        "img_scaling('/content/drive/MyDrive/Colab Notebooks/드론 이동체 인지 영상(도로 고정)/Training/조난자_화성21','/content/drive/MyDrive/Colab Notebooks/도로고정/image2')"
      ],
      "metadata": {
        "colab": {
          "base_uri": "https://localhost:8080/"
        },
        "id": "YRZMfUWrTGco",
        "outputId": "f1a32202-19fa-4ee9-d924-680152f51edb"
      },
      "execution_count": 6,
      "outputs": [
        {
          "output_type": "stream",
          "name": "stdout",
          "text": [
            "before img list length:  1851\n",
            "destin img length:  1851\n"
          ]
        }
      ]
    },
    {
      "cell_type": "code",
      "source": [
        "img_scaling('/content/drive/MyDrive/Colab Notebooks/드론 이동체 인지 영상(도로 고정)/Validation/조난자_의왕_화성01','/content/drive/MyDrive/Colab Notebooks/도로고정/image1')"
      ],
      "metadata": {
        "colab": {
          "base_uri": "https://localhost:8080/"
        },
        "id": "GcURUsfBTxvn",
        "outputId": "42a10ed3-3c58-4ae6-c321-3be5163dc790"
      },
      "execution_count": 7,
      "outputs": [
        {
          "output_type": "stream",
          "name": "stdout",
          "text": [
            "before img list length:  2531\n",
            "destin img length:  2531\n"
          ]
        }
      ]
    },
    {
      "cell_type": "code",
      "source": [
        "img_scaling('/content/drive/MyDrive/Colab Notebooks/드론 이동체 인지 영상(전방 고정)/Training/농약살포_진영_평택_밀양01/2020-12-15/Jinyeong/land/AM','/content/drive/MyDrive/Colab Notebooks/전방고정/jinyeong_pyeongtaek_miryang/2020-12-15/Jinyeong_image')"
      ],
      "metadata": {
        "colab": {
          "base_uri": "https://localhost:8080/"
        },
        "id": "yJnw6CuxUa1x",
        "outputId": "82a194b7-2c26-4646-e6fc-88d27f92694d"
      },
      "execution_count": 8,
      "outputs": [
        {
          "output_type": "stream",
          "name": "stdout",
          "text": [
            "before img list length:  280\n",
            "destin img length:  280\n"
          ]
        }
      ]
    },
    {
      "cell_type": "code",
      "source": [
        "img_scaling('/content/drive/MyDrive/Colab Notebooks/드론 이동체 인지 영상(전방 고정)/Training/농약살포_진영_평택_밀양01/2020-12-15/Jinyeong/land/PM','/content/drive/MyDrive/Colab Notebooks/전방고정/jinyeong_pyeongtaek_miryang/2020-12-15/Jinyeong_image')"
      ],
      "metadata": {
        "colab": {
          "base_uri": "https://localhost:8080/"
        },
        "id": "482JX3eqUbsT",
        "outputId": "f5394367-5dda-4076-980e-0d6bb5a4eaa5"
      },
      "execution_count": 9,
      "outputs": [
        {
          "output_type": "stream",
          "name": "stdout",
          "text": [
            "before img list length:  633\n",
            "destin img length:  913\n"
          ]
        }
      ]
    },
    {
      "cell_type": "code",
      "source": [
        "img_scaling('/content/drive/MyDrive/Colab Notebooks/드론 이동체 인지 영상(전방 고정)/Training/농약살포_진영_평택_밀양01/2020-12-15/Pyeongtaek/land/AM','/content/drive/MyDrive/Colab Notebooks/전방고정/jinyeong_pyeongtaek_miryang/2020-12-15/Pyeongtaek_image')"
      ],
      "metadata": {
        "colab": {
          "base_uri": "https://localhost:8080/"
        },
        "id": "dZU8hYqWUcN5",
        "outputId": "a59853da-20f5-436b-d655-ff5e211b10d3"
      },
      "execution_count": 10,
      "outputs": [
        {
          "output_type": "stream",
          "name": "stdout",
          "text": [
            "before img list length:  150\n",
            "destin img length:  150\n"
          ]
        }
      ]
    },
    {
      "cell_type": "code",
      "source": [
        "img_scaling('/content/drive/MyDrive/Colab Notebooks/드론 이동체 인지 영상(전방 고정)/Training/농약살포_진영_평택_밀양01/2020-12-15/Pyeongtaek/land/PM','/content/drive/MyDrive/Colab Notebooks/전방고정/jinyeong_pyeongtaek_miryang/2020-12-15/Pyeongtaek_image')"
      ],
      "metadata": {
        "colab": {
          "base_uri": "https://localhost:8080/"
        },
        "id": "MaJ1ODYeUcf2",
        "outputId": "85c29bca-eddd-439d-ad9a-625fe808e060"
      },
      "execution_count": 11,
      "outputs": [
        {
          "output_type": "stream",
          "name": "stdout",
          "text": [
            "before img list length:  199\n",
            "destin img length:  349\n"
          ]
        }
      ]
    },
    {
      "cell_type": "code",
      "source": [
        "img_scaling('/content/drive/MyDrive/Colab Notebooks/드론 이동체 인지 영상(전방 고정)/Training/농약살포_진영_평택_밀양01/2020-12-16/Miryang/land/AM','/content/drive/MyDrive/Colab Notebooks/전방고정/jinyeong_pyeongtaek_miryang/2020-12-16/Miryang_image')"
      ],
      "metadata": {
        "colab": {
          "base_uri": "https://localhost:8080/"
        },
        "id": "oTQ9022sbYWN",
        "outputId": "0a165d4e-b0ad-4d72-d011-662e1abb25f9"
      },
      "execution_count": 12,
      "outputs": [
        {
          "output_type": "stream",
          "name": "stdout",
          "text": [
            "before img list length:  0\n",
            "destin img length:  0\n"
          ]
        }
      ]
    },
    {
      "cell_type": "code",
      "source": [
        "img_scaling('/content/drive/MyDrive/Colab Notebooks/드론 이동체 인지 영상(전방 고정)/Training/농약살포_진영_평택_밀양01/2020-12-16/Miryang/land/PM','/content/drive/MyDrive/Colab Notebooks/전방고정/jinyeong_pyeongtaek_miryang/2020-12-16/Miryang_image')"
      ],
      "metadata": {
        "colab": {
          "base_uri": "https://localhost:8080/"
        },
        "id": "hZz7ueV7bYlW",
        "outputId": "a8fd1f50-6615-42eb-dbc7-13de524837ce"
      },
      "execution_count": 13,
      "outputs": [
        {
          "output_type": "stream",
          "name": "stdout",
          "text": [
            "before img list length:  175\n",
            "destin img length:  175\n"
          ]
        }
      ]
    },
    {
      "cell_type": "code",
      "source": [
        "img_scaling('/content/drive/MyDrive/Colab Notebooks/드론 이동체 인지 영상(전방 고정)/Training/농약살포_진영_평택_밀양01/2020-12-16/Pyeongtaek/land/AM','/content/drive/MyDrive/Colab Notebooks/전방고정/jinyeong_pyeongtaek_miryang/2020-12-16/Pyeongtaek_image')"
      ],
      "metadata": {
        "colab": {
          "base_uri": "https://localhost:8080/"
        },
        "id": "_Sp1Mi7nbZCd",
        "outputId": "cffc8abd-c7d7-4338-cb62-f56f5f3ef7a4"
      },
      "execution_count": 14,
      "outputs": [
        {
          "output_type": "stream",
          "name": "stdout",
          "text": [
            "before img list length:  102\n",
            "destin img length:  102\n"
          ]
        }
      ]
    },
    {
      "cell_type": "code",
      "source": [
        "img_scaling('/content/drive/MyDrive/Colab Notebooks/드론 이동체 인지 영상(전방 고정)/Training/농약살포_진영_평택_밀양01/2020-12-16/Pyeongtaek/land/PM','/content/drive/MyDrive/Colab Notebooks/전방고정/jinyeong_pyeongtaek_miryang/2020-12-16/Pyeongtaek_image')"
      ],
      "metadata": {
        "colab": {
          "base_uri": "https://localhost:8080/"
        },
        "id": "Z14fzjPfbZQU",
        "outputId": "0969a523-5afc-433d-e15d-bb9a23bc92ee"
      },
      "execution_count": 15,
      "outputs": [
        {
          "output_type": "stream",
          "name": "stdout",
          "text": [
            "before img list length:  274\n",
            "destin img length:  376\n"
          ]
        }
      ]
    },
    {
      "cell_type": "code",
      "source": [
        "img_scaling('/content/drive/MyDrive/Colab Notebooks/드론 이동체 인지 영상(전방 고정)/Validation/농약살포_평택01/2021-02-20/Pyeongtaek/land/PM','/content/drive/MyDrive/Colab Notebooks/전방고정/pyeongtaek01/Pyeongtaek1_image')"
      ],
      "metadata": {
        "colab": {
          "base_uri": "https://localhost:8080/"
        },
        "id": "u1QxzdhjbZdH",
        "outputId": "2168237b-8c2b-4fa7-be23-80f590ece01a"
      },
      "execution_count": 16,
      "outputs": [
        {
          "output_type": "stream",
          "name": "stdout",
          "text": [
            "before img list length:  3382\n",
            "destin img length:  3382\n"
          ]
        }
      ]
    },
    {
      "cell_type": "code",
      "source": [
        "img_scaling('/content/drive/MyDrive/Colab Notebooks/드론 이동체 인지 영상(전방 고정)/Validation/농약살포_평택01/2021-02-21/Pyeongtaek/land/PM','/content/drive/MyDrive/Colab Notebooks/전방고정/pyeongtaek01/Pyeongtaek2_image')"
      ],
      "metadata": {
        "colab": {
          "base_uri": "https://localhost:8080/"
        },
        "id": "pck8AzFqbZnL",
        "outputId": "8f79406e-4a64-4ec0-d51d-698184afbf2c"
      },
      "execution_count": 17,
      "outputs": [
        {
          "output_type": "stream",
          "name": "stdout",
          "text": [
            "before img list length:  1548\n",
            "destin img length:  1548\n"
          ]
        }
      ]
    },
    {
      "cell_type": "code",
      "source": [],
      "metadata": {
        "id": "zrJ3syt7bZ9G"
      },
      "execution_count": null,
      "outputs": []
    },
    {
      "cell_type": "code",
      "source": [],
      "metadata": {
        "id": "FI0XhYqHbaHn"
      },
      "execution_count": null,
      "outputs": []
    }
  ]
}