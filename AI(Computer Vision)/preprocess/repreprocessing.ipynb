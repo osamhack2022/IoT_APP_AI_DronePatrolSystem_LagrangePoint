{
  "nbformat": 4,
  "nbformat_minor": 0,
  "metadata": {
    "colab": {
      "provenance": [],
      "collapsed_sections": []
    },
    "kernelspec": {
      "name": "python3",
      "display_name": "Python 3"
    },
    "language_info": {
      "name": "python"
    }
  },
  "cells": [
    {
      "cell_type": "code",
      "execution_count": null,
      "metadata": {
        "id": "wVXouavqRlbK"
      },
      "outputs": [],
      "source": [
        "import cv2\n",
        "from google.colab.patches import cv2_imshow\n",
        "import os\n"
      ]
    },
    {
      "cell_type": "code",
      "source": [
        "from google.colab import drive\n",
        "drive.mount('/content/drive')\n"
      ],
      "metadata": {
        "colab": {
          "base_uri": "https://localhost:8080/"
        },
        "id": "-Ssc_Kp1Rn4I",
        "outputId": "e58d4275-05a6-4f56-b7cd-0bf24c401c8b"
      },
      "execution_count": null,
      "outputs": [
        {
          "output_type": "stream",
          "name": "stdout",
          "text": [
            "Drive already mounted at /content/drive; to attempt to forcibly remount, call drive.mount(\"/content/drive\", force_remount=True).\n"
          ]
        }
      ]
    },
    {
      "cell_type": "markdown",
      "source": [
        "# 3840 * 2160 * 3 --> 640 * 360 * 3\n",
        "1/6 Scaling\n"
      ],
      "metadata": {
        "id": "pDpIfxZfR9UN"
      }
    },
    {
      "cell_type": "code",
      "source": [
        "img_path = '/content/drive/MyDrive/Colab Notebooks/드론 이동체 인지 영상(전방 고정)/Training/농약살포_진영_평택_밀양01/2020-12-15/Jinyeong/land/AM/'\n",
        "\n",
        "img_list = os.listdir(img_path)\n",
        "#print(img_list)\n",
        "#img = cv2.imread(img_path+img_list[10])\n",
        "#cv2.imshow 함수를 cv2_imshow로 변경한다.\n",
        "#print(img.shape) \n",
        "for i in range(len(img_list)):\n",
        "  img = cv2.imread(img_path+img_list[i])\n",
        "  img = cv2.resize(img, (640,360))\n",
        "  cv2_imshow(img)\n",
        "  cv2.waitKey(0)\n",
        "cv2.destroyAllWindows()"
      ],
      "metadata": {
        "id": "w-6-hp9sRsFn"
      },
      "execution_count": null,
      "outputs": []
    },
    {
      "cell_type": "code",
      "source": [
        "def img_scaling(img_path, dir_path):\n",
        "  img_list = os.listdir(img_path)\n",
        "  print(\"before img list length: \",len(img_list))\n",
        "\n",
        "  for i in range(len(img_list)):\n",
        "    img = cv2.imread(img_path+'/'+img_list[i])\n",
        "    img = cv2.resize(img, (640,360))\n",
        "    cv2.imwrite(dir_path+'/'+img_list[i], img)\n",
        "\n",
        "  print(\"destin img length: \", len(os.listdir(dir_path)))"
      ],
      "metadata": {
        "id": "CWYuaY9lSQNI"
      },
      "execution_count": null,
      "outputs": []
    },
    {
      "cell_type": "code",
      "source": [
        "img_scaling('/content/drive/MyDrive/Colab Notebooks/드론 이동체 인지 영상(도로 고정)/Training/조난자_화성21','/content/drive/MyDrive/Colab Notebooks/도로고정/image2')"
      ],
      "metadata": {
        "colab": {
          "base_uri": "https://localhost:8080/"
        },
        "id": "YRZMfUWrTGco",
        "outputId": "f1a32202-19fa-4ee9-d924-680152f51edb"
      },
      "execution_count": null,
      "outputs": [
        {
          "output_type": "stream",
          "name": "stdout",
          "text": [
            "before img list length:  1851\n",
            "destin img length:  1851\n"
          ]
        }
      ]
    },
    {
      "cell_type": "code",
      "source": [
        "img_scaling('/content/drive/MyDrive/Colab Notebooks/드론 이동체 인지 영상(도로 고정)/Validation/조난자_의왕_화성01','/content/drive/MyDrive/Colab Notebooks/도로고정/image1')"
      ],
      "metadata": {
        "colab": {
          "base_uri": "https://localhost:8080/"
        },
        "id": "GcURUsfBTxvn",
        "outputId": "42a10ed3-3c58-4ae6-c321-3be5163dc790"
      },
      "execution_count": null,
      "outputs": [
        {
          "output_type": "stream",
          "name": "stdout",
          "text": [
            "before img list length:  2531\n",
            "destin img length:  2531\n"
          ]
        }
      ]
    },
    {
      "cell_type": "code",
      "source": [
        "img_scaling('/content/drive/MyDrive/Colab Notebooks/드론 이동체 인지 영상(전방 고정)/Training/농약살포_진영_평택_밀양01/2020-12-15/Jinyeong/land/AM','/content/drive/MyDrive/Colab Notebooks/전방고정/jinyeong_pyeongtaek_miryang/2020-12-15/Jinyeong_image')"
      ],
      "metadata": {
        "colab": {
          "base_uri": "https://localhost:8080/"
        },
        "id": "yJnw6CuxUa1x",
        "outputId": "82a194b7-2c26-4646-e6fc-88d27f92694d"
      },
      "execution_count": null,
      "outputs": [
        {
          "output_type": "stream",
          "name": "stdout",
          "text": [
            "before img list length:  280\n",
            "destin img length:  280\n"
          ]
        }
      ]
    },
    {
      "cell_type": "code",
      "source": [
        "img_scaling('/content/drive/MyDrive/Colab Notebooks/드론 이동체 인지 영상(전방 고정)/Training/농약살포_진영_평택_밀양01/2020-12-15/Jinyeong/land/PM','/content/drive/MyDrive/Colab Notebooks/전방고정/jinyeong_pyeongtaek_miryang/2020-12-15/Jinyeong_image')"
      ],
      "metadata": {
        "colab": {
          "base_uri": "https://localhost:8080/"
        },
        "id": "482JX3eqUbsT",
        "outputId": "f5394367-5dda-4076-980e-0d6bb5a4eaa5"
      },
      "execution_count": null,
      "outputs": [
        {
          "output_type": "stream",
          "name": "stdout",
          "text": [
            "before img list length:  633\n",
            "destin img length:  913\n"
          ]
        }
      ]
    },
    {
      "cell_type": "code",
      "source": [
        "img_scaling('/content/drive/MyDrive/Colab Notebooks/드론 이동체 인지 영상(전방 고정)/Training/농약살포_진영_평택_밀양01/2020-12-15/Pyeongtaek/land/AM','/content/drive/MyDrive/Colab Notebooks/전방고정/jinyeong_pyeongtaek_miryang/2020-12-15/Pyeongtaek_image')"
      ],
      "metadata": {
        "colab": {
          "base_uri": "https://localhost:8080/"
        },
        "id": "dZU8hYqWUcN5",
        "outputId": "a59853da-20f5-436b-d655-ff5e211b10d3"
      },
      "execution_count": null,
      "outputs": [
        {
          "output_type": "stream",
          "name": "stdout",
          "text": [
            "before img list length:  150\n",
            "destin img length:  150\n"
          ]
        }
      ]
    },
    {
      "cell_type": "code",
      "source": [
        "img_scaling('/content/drive/MyDrive/Colab Notebooks/드론 이동체 인지 영상(전방 고정)/Training/농약살포_진영_평택_밀양01/2020-12-15/Pyeongtaek/land/PM','/content/drive/MyDrive/Colab Notebooks/전방고정/jinyeong_pyeongtaek_miryang/2020-12-15/Pyeongtaek_image')"
      ],
      "metadata": {
        "colab": {
          "base_uri": "https://localhost:8080/"
        },
        "id": "MaJ1ODYeUcf2",
        "outputId": "85c29bca-eddd-439d-ad9a-625fe808e060"
      },
      "execution_count": null,
      "outputs": [
        {
          "output_type": "stream",
          "name": "stdout",
          "text": [
            "before img list length:  199\n",
            "destin img length:  349\n"
          ]
        }
      ]
    },
    {
      "cell_type": "code",
      "source": [
        "img_scaling('/content/drive/MyDrive/Colab Notebooks/드론 이동체 인지 영상(전방 고정)/Training/농약살포_진영_평택_밀양01/2020-12-16/Miryang/land/AM','/content/drive/MyDrive/Colab Notebooks/전방고정/jinyeong_pyeongtaek_miryang/2020-12-16/Miryang_image')"
      ],
      "metadata": {
        "colab": {
          "base_uri": "https://localhost:8080/"
        },
        "id": "oTQ9022sbYWN",
        "outputId": "0a165d4e-b0ad-4d72-d011-662e1abb25f9"
      },
      "execution_count": null,
      "outputs": [
        {
          "output_type": "stream",
          "name": "stdout",
          "text": [
            "before img list length:  0\n",
            "destin img length:  0\n"
          ]
        }
      ]
    },
    {
      "cell_type": "code",
      "source": [
        "img_scaling('/content/drive/MyDrive/Colab Notebooks/드론 이동체 인지 영상(전방 고정)/Training/농약살포_진영_평택_밀양01/2020-12-16/Miryang/land/PM','/content/drive/MyDrive/Colab Notebooks/전방고정/jinyeong_pyeongtaek_miryang/2020-12-16/Miryang_image')"
      ],
      "metadata": {
        "colab": {
          "base_uri": "https://localhost:8080/"
        },
        "id": "hZz7ueV7bYlW",
        "outputId": "a8fd1f50-6615-42eb-dbc7-13de524837ce"
      },
      "execution_count": null,
      "outputs": [
        {
          "output_type": "stream",
          "name": "stdout",
          "text": [
            "before img list length:  175\n",
            "destin img length:  175\n"
          ]
        }
      ]
    },
    {
      "cell_type": "code",
      "source": [
        "img_scaling('/content/drive/MyDrive/Colab Notebooks/드론 이동체 인지 영상(전방 고정)/Training/농약살포_진영_평택_밀양01/2020-12-16/Pyeongtaek/land/AM','/content/drive/MyDrive/Colab Notebooks/전방고정/jinyeong_pyeongtaek_miryang/2020-12-16/Pyeongtaek_image')"
      ],
      "metadata": {
        "colab": {
          "base_uri": "https://localhost:8080/"
        },
        "id": "_Sp1Mi7nbZCd",
        "outputId": "cffc8abd-c7d7-4338-cb62-f56f5f3ef7a4"
      },
      "execution_count": null,
      "outputs": [
        {
          "output_type": "stream",
          "name": "stdout",
          "text": [
            "before img list length:  102\n",
            "destin img length:  102\n"
          ]
        }
      ]
    },
    {
      "cell_type": "code",
      "source": [
        "img_scaling('/content/drive/MyDrive/Colab Notebooks/드론 이동체 인지 영상(전방 고정)/Training/농약살포_진영_평택_밀양01/2020-12-16/Pyeongtaek/land/PM','/content/drive/MyDrive/Colab Notebooks/전방고정/jinyeong_pyeongtaek_miryang/2020-12-16/Pyeongtaek_image')"
      ],
      "metadata": {
        "colab": {
          "base_uri": "https://localhost:8080/"
        },
        "id": "Z14fzjPfbZQU",
        "outputId": "0969a523-5afc-433d-e15d-bb9a23bc92ee"
      },
      "execution_count": null,
      "outputs": [
        {
          "output_type": "stream",
          "name": "stdout",
          "text": [
            "before img list length:  274\n",
            "destin img length:  376\n"
          ]
        }
      ]
    },
    {
      "cell_type": "code",
      "source": [
        "img_scaling('/content/drive/MyDrive/Colab Notebooks/드론 이동체 인지 영상(전방 고정)/Validation/농약살포_평택01/2021-02-20/Pyeongtaek/land/PM','/content/drive/MyDrive/Colab Notebooks/전방고정/pyeongtaek01/Pyeongtaek1_image')"
      ],
      "metadata": {
        "colab": {
          "base_uri": "https://localhost:8080/"
        },
        "id": "u1QxzdhjbZdH",
        "outputId": "2168237b-8c2b-4fa7-be23-80f590ece01a"
      },
      "execution_count": null,
      "outputs": [
        {
          "output_type": "stream",
          "name": "stdout",
          "text": [
            "before img list length:  3382\n",
            "destin img length:  3382\n"
          ]
        }
      ]
    },
    {
      "cell_type": "code",
      "source": [
        "img_scaling('/content/drive/MyDrive/Colab Notebooks/드론 이동체 인지 영상(전방 고정)/Validation/농약살포_평택01/2021-02-21/Pyeongtaek/land/PM','/content/drive/MyDrive/Colab Notebooks/전방고정/pyeongtaek01/Pyeongtaek2_image')"
      ],
      "metadata": {
        "colab": {
          "base_uri": "https://localhost:8080/"
        },
        "id": "pck8AzFqbZnL",
        "outputId": "8f79406e-4a64-4ec0-d51d-698184afbf2c"
      },
      "execution_count": null,
      "outputs": [
        {
          "output_type": "stream",
          "name": "stdout",
          "text": [
            "before img list length:  1548\n",
            "destin img length:  1548\n"
          ]
        }
      ]
    },
    {
      "cell_type": "markdown",
      "source": [
        "## Image and Label moving"
      ],
      "metadata": {
        "id": "wikQAI1l89sg"
      }
    },
    {
      "cell_type": "code",
      "source": [
        "import shutil\n",
        "img_path = '/content/drive/MyDrive/도로고정/image2'\n",
        "dst_img = '/content/drive/MyDrive/도로고정/image1'\n",
        "label_path = '/content/drive/MyDrive/도로고정/label2'\n",
        "dst_lbl = '/content/drive/MyDrive/도로고정/label1'\n",
        "img_list = os.listdir(img_path)\n",
        "lbl_list = os.listdir(label_path)"
      ],
      "metadata": {
        "id": "zrJ3syt7bZ9G"
      },
      "execution_count": null,
      "outputs": []
    },
    {
      "cell_type": "code",
      "source": [
        "print(len(img_list))\n",
        "for path in img_list:\n",
        "  shutil.move(img_path+'/'+path, dst_img)\n",
        "print(len(os.listdir(img_path)))"
      ],
      "metadata": {
        "id": "FI0XhYqHbaHn",
        "colab": {
          "base_uri": "https://localhost:8080/"
        },
        "outputId": "51102a35-a688-4113-d9bc-27bbf46f69c7"
      },
      "execution_count": null,
      "outputs": [
        {
          "output_type": "stream",
          "name": "stdout",
          "text": [
            "1851\n",
            "0\n"
          ]
        }
      ]
    },
    {
      "cell_type": "code",
      "source": [
        "print(len(lbl_list))\n",
        "for path in lbl_list:\n",
        "  shutil.move(label_path+'/'+path, dst_lbl)\n",
        "print(len(os.listdir(label_path)))"
      ],
      "metadata": {
        "colab": {
          "base_uri": "https://localhost:8080/"
        },
        "id": "nd-AE5ei-CWg",
        "outputId": "4fb491c7-59d3-46e8-985d-5cb4b81036f1"
      },
      "execution_count": null,
      "outputs": [
        {
          "output_type": "stream",
          "name": "stdout",
          "text": [
            "7901\n",
            "0\n"
          ]
        }
      ]
    },
    {
      "cell_type": "code",
      "source": [
        "print(len(os.listdir(dst_img)))\n",
        "print(len(os.listdir(dst_lbl)))\n",
        "imgs = os.listdir(dst_img)\n",
        "labels = os.listdir(dst_lbl)"
      ],
      "metadata": {
        "colab": {
          "base_uri": "https://localhost:8080/"
        },
        "id": "ZRa6oA8U-d3Y",
        "outputId": "114ff627-466d-46ff-f9a6-70499baf879d"
      },
      "execution_count": null,
      "outputs": [
        {
          "output_type": "stream",
          "name": "stdout",
          "text": [
            "4382\n",
            "10432\n"
          ]
        }
      ]
    },
    {
      "cell_type": "markdown",
      "source": [
        "## deleting not-coupled-labels"
      ],
      "metadata": {
        "id": "u9dNA7WvUHRJ"
      }
    },
    {
      "cell_type": "code",
      "source": [
        "img_path = '/content/drive/MyDrive/jonan_image/image'\n",
        "label_path = '/content/drive/MyDrive/jonan_image/label'\n",
        "imgs = os.listdir(img_path)\n",
        "labels = os.listdir(label_path)\n",
        "print(len(imgs))\n",
        "print(len(labels))\n",
        "saving_names = []\n",
        "for i in range(len(imgs)):\n",
        "  filename = imgs[i].replace('.jpg', '.txt')\n",
        "  saving_names.append(filename)\n",
        "print(len(saving_names))\n",
        "print(saving_names[0])\n",
        "trash = []\n",
        "for i in range(len(labels)):\n",
        "  if labels[i] not in saving_names:\n",
        "    os.remove(label_path+'/'+labels[i])\n",
        "\n",
        "print(len(os.listdir(label_path)))"
      ],
      "metadata": {
        "colab": {
          "base_uri": "https://localhost:8080/"
        },
        "id": "iAV_s95U_J_i",
        "outputId": "c008dbe1-2d7a-485d-80fc-3cb4a7cbc8dc"
      },
      "execution_count": null,
      "outputs": [
        {
          "output_type": "stream",
          "name": "stdout",
          "text": [
            "4382\n",
            "10432\n",
            "4382\n",
            "김수영-20210105-맑음-90-25m-10h25m_0000648.txt\n",
            "4382\n"
          ]
        }
      ]
    },
    {
      "cell_type": "markdown",
      "source": [
        "## renaming data"
      ],
      "metadata": {
        "id": "cfNvhFttUNj5"
      }
    },
    {
      "cell_type": "code",
      "source": [
        "imgs = os.listdir(img_path)\n",
        "labels = os.listdir(label_path)\n",
        "print(len(imgs))\n",
        "print(len(labels))\n",
        "\n",
        "for i in range(len(imgs)):\n",
        "  os.rename(img_path+'/'+imgs[i], img_path+'/'+'survivor'+str(i)+'.jpg')\n",
        "  os.rename(label_path+'/'+labels[i], label_path+'/'+'survivor'+str(i)+'.txt')\n",
        "\n",
        "print(os.listdir(img_path)[0:3])\n",
        "print(os.listdir(label_path)[0:3])"
      ],
      "metadata": {
        "colab": {
          "base_uri": "https://localhost:8080/"
        },
        "id": "SAommbGqSxZj",
        "outputId": "26ef994f-48d3-4bbb-e0f8-17f8ea7dae7d"
      },
      "execution_count": null,
      "outputs": [
        {
          "output_type": "stream",
          "name": "stdout",
          "text": [
            "4382\n",
            "4382\n",
            "['survivor0.jpg', 'survivor1.jpg', 'survivor2.jpg']\n",
            "['survivor0.txt', 'survivor1.txt', 'survivor2.txt']\n"
          ]
        }
      ]
    },
    {
      "cell_type": "code",
      "source": [
        "for i in range(len(imgs)):\n",
        "  print(os.listdir(img_path)[i])\n",
        "  if i>300:\n",
        "    break\n",
        "print(os.listdir(label_path)[0:3])"
      ],
      "metadata": {
        "colab": {
          "base_uri": "https://localhost:8080/"
        },
        "id": "NiZWAkqBVFxc",
        "outputId": "0f86053c-24c2-417c-a4c1-6d6b9e376a71"
      },
      "execution_count": null,
      "outputs": [
        {
          "output_type": "stream",
          "name": "stdout",
          "text": [
            "survivor0.jpg\n",
            "survivor1.jpg\n",
            "survivor2.jpg\n",
            "survivor3.jpg\n",
            "survivor4.jpg\n",
            "survivor5.jpg\n",
            "survivor6.jpg\n",
            "survivor7.jpg\n",
            "survivor8.jpg\n",
            "survivor9.jpg\n",
            "survivor10.jpg\n",
            "survivor11.jpg\n",
            "survivor12.jpg\n",
            "survivor13.jpg\n",
            "survivor14.jpg\n",
            "survivor15.jpg\n",
            "survivor16.jpg\n",
            "survivor17.jpg\n",
            "survivor18.jpg\n",
            "survivor19.jpg\n",
            "survivor20.jpg\n",
            "survivor21.jpg\n",
            "survivor22.jpg\n",
            "survivor23.jpg\n",
            "survivor24.jpg\n",
            "survivor25.jpg\n",
            "survivor26.jpg\n",
            "survivor27.jpg\n",
            "survivor28.jpg\n",
            "survivor29.jpg\n",
            "survivor30.jpg\n",
            "survivor31.jpg\n",
            "survivor32.jpg\n",
            "survivor33.jpg\n",
            "survivor34.jpg\n",
            "survivor35.jpg\n",
            "survivor36.jpg\n",
            "survivor37.jpg\n",
            "survivor38.jpg\n",
            "survivor39.jpg\n",
            "survivor40.jpg\n",
            "survivor41.jpg\n",
            "survivor42.jpg\n",
            "survivor43.jpg\n",
            "survivor44.jpg\n",
            "survivor45.jpg\n",
            "survivor46.jpg\n",
            "survivor47.jpg\n",
            "survivor48.jpg\n",
            "survivor49.jpg\n",
            "survivor50.jpg\n",
            "survivor51.jpg\n",
            "survivor52.jpg\n",
            "survivor53.jpg\n",
            "survivor54.jpg\n",
            "survivor55.jpg\n",
            "survivor56.jpg\n",
            "survivor57.jpg\n",
            "survivor58.jpg\n",
            "survivor59.jpg\n",
            "survivor60.jpg\n",
            "survivor61.jpg\n",
            "survivor62.jpg\n",
            "survivor63.jpg\n",
            "survivor64.jpg\n",
            "survivor65.jpg\n",
            "survivor66.jpg\n",
            "survivor67.jpg\n",
            "survivor68.jpg\n",
            "survivor69.jpg\n",
            "survivor70.jpg\n",
            "survivor71.jpg\n",
            "survivor72.jpg\n",
            "survivor73.jpg\n",
            "survivor74.jpg\n",
            "survivor75.jpg\n",
            "survivor76.jpg\n",
            "survivor77.jpg\n",
            "survivor78.jpg\n",
            "survivor79.jpg\n",
            "survivor80.jpg\n",
            "survivor81.jpg\n",
            "survivor82.jpg\n",
            "survivor83.jpg\n",
            "survivor84.jpg\n",
            "survivor85.jpg\n",
            "survivor86.jpg\n",
            "survivor87.jpg\n",
            "survivor88.jpg\n",
            "survivor89.jpg\n",
            "survivor90.jpg\n",
            "survivor91.jpg\n",
            "survivor92.jpg\n",
            "survivor93.jpg\n",
            "survivor94.jpg\n",
            "survivor95.jpg\n",
            "survivor96.jpg\n",
            "survivor97.jpg\n",
            "survivor98.jpg\n",
            "survivor99.jpg\n",
            "survivor100.jpg\n",
            "survivor101.jpg\n",
            "survivor102.jpg\n",
            "survivor103.jpg\n",
            "survivor104.jpg\n",
            "survivor105.jpg\n",
            "survivor106.jpg\n",
            "survivor107.jpg\n",
            "survivor108.jpg\n",
            "survivor109.jpg\n",
            "survivor110.jpg\n",
            "survivor111.jpg\n",
            "survivor112.jpg\n",
            "survivor113.jpg\n",
            "survivor114.jpg\n",
            "survivor115.jpg\n",
            "survivor116.jpg\n",
            "survivor117.jpg\n",
            "survivor118.jpg\n",
            "survivor119.jpg\n",
            "survivor120.jpg\n",
            "survivor121.jpg\n",
            "survivor122.jpg\n",
            "survivor123.jpg\n",
            "survivor124.jpg\n",
            "survivor125.jpg\n",
            "survivor126.jpg\n",
            "survivor127.jpg\n",
            "survivor128.jpg\n",
            "survivor129.jpg\n",
            "survivor130.jpg\n",
            "survivor131.jpg\n",
            "survivor132.jpg\n",
            "survivor133.jpg\n",
            "survivor134.jpg\n",
            "survivor135.jpg\n",
            "survivor136.jpg\n",
            "survivor137.jpg\n",
            "survivor138.jpg\n",
            "survivor139.jpg\n",
            "survivor140.jpg\n",
            "survivor141.jpg\n",
            "survivor142.jpg\n",
            "survivor143.jpg\n",
            "survivor144.jpg\n",
            "survivor145.jpg\n",
            "survivor146.jpg\n",
            "survivor147.jpg\n",
            "survivor148.jpg\n",
            "survivor149.jpg\n",
            "survivor150.jpg\n",
            "survivor151.jpg\n",
            "survivor152.jpg\n",
            "survivor153.jpg\n",
            "survivor154.jpg\n",
            "survivor155.jpg\n",
            "survivor156.jpg\n",
            "survivor157.jpg\n",
            "survivor158.jpg\n",
            "survivor159.jpg\n",
            "survivor160.jpg\n",
            "survivor161.jpg\n",
            "survivor162.jpg\n",
            "survivor163.jpg\n",
            "survivor164.jpg\n",
            "survivor165.jpg\n",
            "survivor166.jpg\n",
            "survivor167.jpg\n",
            "survivor168.jpg\n",
            "survivor169.jpg\n",
            "survivor170.jpg\n",
            "survivor171.jpg\n",
            "survivor172.jpg\n",
            "survivor173.jpg\n",
            "survivor174.jpg\n",
            "survivor175.jpg\n",
            "survivor176.jpg\n",
            "survivor177.jpg\n",
            "survivor178.jpg\n",
            "survivor179.jpg\n",
            "survivor180.jpg\n",
            "survivor181.jpg\n",
            "survivor182.jpg\n",
            "survivor183.jpg\n",
            "survivor184.jpg\n",
            "survivor185.jpg\n",
            "survivor186.jpg\n",
            "survivor187.jpg\n",
            "survivor188.jpg\n",
            "survivor189.jpg\n",
            "survivor190.jpg\n",
            "survivor191.jpg\n",
            "survivor192.jpg\n",
            "survivor193.jpg\n",
            "survivor194.jpg\n",
            "survivor195.jpg\n",
            "survivor196.jpg\n",
            "survivor197.jpg\n",
            "survivor198.jpg\n",
            "survivor199.jpg\n",
            "survivor200.jpg\n",
            "survivor201.jpg\n",
            "survivor202.jpg\n",
            "survivor203.jpg\n",
            "survivor204.jpg\n",
            "survivor205.jpg\n",
            "survivor206.jpg\n",
            "survivor207.jpg\n",
            "survivor208.jpg\n",
            "survivor209.jpg\n",
            "survivor210.jpg\n",
            "survivor211.jpg\n",
            "survivor212.jpg\n",
            "survivor213.jpg\n",
            "survivor214.jpg\n",
            "survivor215.jpg\n",
            "survivor216.jpg\n",
            "survivor217.jpg\n",
            "survivor218.jpg\n",
            "survivor219.jpg\n",
            "survivor220.jpg\n",
            "survivor221.jpg\n",
            "survivor222.jpg\n",
            "survivor223.jpg\n",
            "survivor224.jpg\n",
            "survivor225.jpg\n",
            "survivor226.jpg\n",
            "survivor227.jpg\n",
            "survivor228.jpg\n",
            "survivor229.jpg\n",
            "survivor230.jpg\n",
            "survivor231.jpg\n",
            "survivor232.jpg\n",
            "survivor233.jpg\n",
            "survivor234.jpg\n",
            "survivor235.jpg\n",
            "survivor236.jpg\n",
            "survivor237.jpg\n",
            "survivor238.jpg\n",
            "survivor239.jpg\n",
            "survivor240.jpg\n",
            "survivor241.jpg\n",
            "survivor242.jpg\n",
            "survivor243.jpg\n",
            "survivor244.jpg\n",
            "survivor245.jpg\n",
            "survivor246.jpg\n",
            "survivor247.jpg\n",
            "survivor248.jpg\n",
            "survivor249.jpg\n",
            "survivor250.jpg\n",
            "survivor251.jpg\n",
            "survivor252.jpg\n",
            "survivor253.jpg\n",
            "survivor254.jpg\n",
            "survivor255.jpg\n",
            "survivor256.jpg\n",
            "survivor257.jpg\n",
            "survivor258.jpg\n",
            "survivor259.jpg\n",
            "survivor260.jpg\n",
            "survivor261.jpg\n",
            "survivor262.jpg\n",
            "survivor263.jpg\n",
            "survivor264.jpg\n",
            "survivor265.jpg\n",
            "survivor266.jpg\n",
            "survivor267.jpg\n",
            "survivor268.jpg\n",
            "survivor269.jpg\n",
            "survivor270.jpg\n",
            "survivor271.jpg\n",
            "survivor272.jpg\n",
            "survivor273.jpg\n",
            "survivor274.jpg\n",
            "survivor275.jpg\n",
            "survivor276.jpg\n",
            "survivor277.jpg\n",
            "survivor278.jpg\n",
            "survivor279.jpg\n",
            "survivor280.jpg\n",
            "survivor281.jpg\n",
            "survivor282.jpg\n",
            "survivor283.jpg\n",
            "survivor284.jpg\n",
            "survivor285.jpg\n",
            "survivor286.jpg\n",
            "survivor287.jpg\n",
            "survivor288.jpg\n",
            "survivor289.jpg\n",
            "survivor290.jpg\n",
            "survivor291.jpg\n",
            "survivor292.jpg\n",
            "survivor293.jpg\n",
            "survivor294.jpg\n",
            "survivor295.jpg\n",
            "survivor296.jpg\n",
            "survivor297.jpg\n",
            "survivor298.jpg\n",
            "survivor299.jpg\n",
            "survivor300.jpg\n",
            "survivor301.jpg\n",
            "['survivor0.txt', 'survivor1.txt', 'survivor2.txt']\n"
          ]
        }
      ]
    },
    {
      "cell_type": "markdown",
      "source": [
        "## 다시 전처리하기.....\n",
        "* 이미지 사이즈 초기에 가로, 세로 같게 해주기\n",
        "* 3840 * 2160 * 3 --> 2160 * 2160 * 3\n",
        "* 객체(person, vehicle)가 잘려나간 이미지 제외해주기\n",
        "* 415 * 415 * 3으로 rescaling\n",
        "* label 형식에 맞게 바꾸기\n"
      ],
      "metadata": {
        "id": "yvM4GF2NnYgj"
      }
    },
    {
      "cell_type": "code",
      "source": [
        "import sys\n",
        "import numpy as np\n",
        "import cv2\n",
        "import glob\n",
        "import json\n",
        "import os\n",
        "\n",
        "from google.colab.patches import cv2_imshow\n"
      ],
      "metadata": {
        "id": "pyOgjuD_mGID"
      },
      "execution_count": null,
      "outputs": []
    },
    {
      "cell_type": "code",
      "source": [
        "img_path = '/content/drive/MyDrive/jonan_image/image'\n",
        "label_path = '/content/drive/MyDrive/jonan_image/label'\n",
        "imgs = os.listdir(img_path)\n",
        "labels = os.listdir(label_path)\n",
        "print(len(imgs))\n",
        "print(len(labels))"
      ],
      "metadata": {
        "id": "3nu_5gFBV9Ry",
        "colab": {
          "base_uri": "https://localhost:8080/"
        },
        "outputId": "cff069f1-ace9-47eb-8da9-7e6f8f056aaa"
      },
      "execution_count": null,
      "outputs": [
        {
          "output_type": "stream",
          "name": "stdout",
          "text": [
            "4382\n",
            "4382\n"
          ]
        }
      ]
    },
    {
      "cell_type": "markdown",
      "source": [
        "### 1. 조난자_화성21 전처리\n"
      ],
      "metadata": {
        "id": "bz5e6vGYd10w"
      }
    },
    {
      "cell_type": "code",
      "source": [
        "img_path = '/content/drive/MyDrive/Colab Notebooks/드론 이동체 인지 영상(도로 고정)/Training/조난자_화성21'\n",
        "#img_path = '/content/drive/MyDrive/Colab Notebooks/드론 이동체 인지 영상(도로 고정)/Validation/조난자_의왕_화성01'\n",
        "label_path = '/content/drive/MyDrive/Colab Notebooks/드론 이동체 인지 영상(도로 고정)/Training/[라벨]조난자_화성21'\n",
        "#label_path = '/content/drive/MyDrive/Colab Notebooks/드론 이동체 인지 영상(도로 고정)/Validation/[라벨]조난자_의왕_화성01'\n",
        "imgs = os.listdir(img_path)\n",
        "labels = os.listdir(label_path)\n",
        "print(len(imgs))\n",
        "print(len(labels))"
      ],
      "metadata": {
        "colab": {
          "base_uri": "https://localhost:8080/"
        },
        "id": "cpzYSuzju0EQ",
        "outputId": "0d92ce46-fed2-45d4-be5d-ea90389359ba"
      },
      "execution_count": null,
      "outputs": [
        {
          "output_type": "stream",
          "name": "stdout",
          "text": [
            "1851\n",
            "1851\n"
          ]
        }
      ]
    },
    {
      "cell_type": "markdown",
      "source": [
        "### 라벨과 이미지 페어가 안되는 파일 삭제 --> 파일개수 통일"
      ],
      "metadata": {
        "id": "AHuswEMQd6ya"
      }
    },
    {
      "cell_type": "code",
      "source": [
        "cnt = 0\n",
        "for i in range(len(labels)):\n",
        "  filename = labels[i].replace('.json', '.jpg')\n",
        "  if filename not in imgs:\n",
        "    os.remove(label_path+'/'+labels[i])\n",
        "imgs = os.listdir(img_path)\n",
        "labels = os.listdir(label_path)\n",
        "imgs.sort()\n",
        "labels.sort()\n",
        "print(len(imgs))\n",
        "print(len(labels))\n",
        "for i in range(len(imgs)):\n",
        "  name = imgs[i].replace('.jpg', '.json')\n",
        "  if name not in labels:\n",
        "    print(name)"
      ],
      "metadata": {
        "colab": {
          "base_uri": "https://localhost:8080/"
        },
        "id": "oldDSIZV0ePW",
        "outputId": "0c018cec-302b-4efd-da9a-5727200da7d2"
      },
      "execution_count": null,
      "outputs": [
        {
          "output_type": "stream",
          "name": "stdout",
          "text": [
            "1851\n",
            "1851\n"
          ]
        }
      ]
    },
    {
      "cell_type": "markdown",
      "source": [
        "### 파일 2160x2160으로 이미지 자르고 자른 이미지에 객체가 포함된 것만 남김, 라벨링 yolo형식으로 변환"
      ],
      "metadata": {
        "id": "2rOW9-Cxd_31"
      }
    },
    {
      "cell_type": "code",
      "source": [
        "dst_path = '/content/drive/MyDrive/jonanja_data/image/'\n",
        "dst_label = '/content/drive/MyDrive/jonanja_data/label/'\n",
        "useless = []\n",
        "for i in range(len(imgs)):\n",
        "  flag = True\n",
        "  image = cv2.imread(img_path+'/'+imgs[i])\n",
        "\n",
        "  cropped_img = image[0:2160, 0:2160]\n",
        "  #print(cropped_img.shape)\n",
        "  with open(label_path+'/'+labels[i]) as f:\n",
        "    data = json.load(f)\n",
        "    labeling_list = []\n",
        "     \n",
        "    annotations = data['annotations']\n",
        "    # height, width of image\n",
        "    height, width = data['metadata']['height'], data['metadata']['width']\n",
        "\n",
        "    for j in range(len(annotations)):\n",
        "      if annotations[j]['label'] == 'person':\n",
        "        class_id = 0\n",
        "        TL, BR = annotations[j]['points'][0],annotations[j]['points'][2]\n",
        "        TR, BL = annotations[j]['points'][1], annotations[j]['points'][3]\n",
        "        if BR[0]>=2160:\n",
        "          useless.append([i,labels[i]])\n",
        "          print(\"not gonna use {0} data\".format(i))\n",
        "          flag = False\n",
        "          \n",
        "\n",
        "        print(TL, BR)\n",
        "        center = ((TL[0]+BR[0])/2, (TL[1]+BR[1])/2) #(x,y)\n",
        "        bbox_width, bbox_height = BR[0]-TL[0], BR[1]-TL[1]\n",
        "        print(bbox_width, bbox_height)\n",
        "        x,y,w,h = center[0]/2160, center[1]/2160, bbox_width/2160, bbox_height/2160\n",
        "        print(class_id,x, y, w, h)\n",
        "        labeling_list.append((class_id, x, y, w, h))\n",
        "    if flag:\n",
        "      cv2.imwrite(dst_path+'jonanja'+str(i)+'.jpg', cropped_img)\n",
        "      file = open(dst_label+'jonanja'+str(i)+'.txt', 'w+')\n",
        "      file.write(''.join('%d %.6f %.6f %.6f %.6f' % label for label in labeling_list))\n",
        "      file.close()\n",
        "      print('files created for ',i)\n",
        "      \n",
        "  #cv2.waitKey(0)\n",
        "  #cv2.destroyAllWindows()\n"
      ],
      "metadata": {
        "id": "ygsgTInf08Be"
      },
      "execution_count": null,
      "outputs": []
    },
    {
      "cell_type": "code",
      "source": [
        "dst_images = os.listdir(dst_path)\n",
        "dst_labels = os.listdir(dst_label)\n",
        "print(len(dst_images))\n",
        "print(len(dst_labels))\n",
        "\n",
        "for i in range(len(dst_images)):\n",
        "  name = dst_images[i].replace('.jpg', '.txt')\n",
        "  if name not in dst_labels:\n",
        "    print(name)"
      ],
      "metadata": {
        "id": "G7wUuxC24L4h",
        "colab": {
          "base_uri": "https://localhost:8080/"
        },
        "outputId": "5a0a6006-3688-4296-8ae9-7e11bac1e1c0"
      },
      "execution_count": null,
      "outputs": [
        {
          "output_type": "stream",
          "name": "stdout",
          "text": [
            "1126\n",
            "1126\n"
          ]
        }
      ]
    },
    {
      "cell_type": "markdown",
      "source": [
        "### 이미지 2160x2160에서 416x416으로 변환"
      ],
      "metadata": {
        "id": "N_9rf2LjePBn"
      }
    },
    {
      "cell_type": "code",
      "source": [
        "before = cv2.imread(dst_path+dst_images[0])\n",
        "print(before.shape)\n",
        "for i in range(len(dst_images)):\n",
        "  src = cv2.imread(dst_path+dst_images[i])\n",
        "  dst = cv2.resize(src, dsize=(416,416), interpolation=cv2.INTER_AREA)\n",
        "  cv2.imwrite(dst_path+dst_images[i], dst)\n",
        "\n",
        "changed = cv2.imread(dst_path+dst_images[0])\n",
        "print(changed.shape)"
      ],
      "metadata": {
        "id": "pTRLSrlTohxd",
        "colab": {
          "base_uri": "https://localhost:8080/"
        },
        "outputId": "d31e16d0-a4a4-4c78-c012-74949fa8a0ae"
      },
      "execution_count": null,
      "outputs": [
        {
          "output_type": "stream",
          "name": "stdout",
          "text": [
            "(2160, 2160, 3)\n",
            "(416, 416, 3)\n"
          ]
        }
      ]
    },
    {
      "cell_type": "code",
      "source": [
        "a = os.listdir(dst_path)\n",
        "print(a[-1])"
      ],
      "metadata": {
        "colab": {
          "base_uri": "https://localhost:8080/"
        },
        "id": "aVh4y3ZXe9Io",
        "outputId": "306cc681-7434-426d-b378-40d96de628e2"
      },
      "execution_count": null,
      "outputs": [
        {
          "output_type": "stream",
          "name": "stdout",
          "text": [
            "jonanja1843.jpg\n"
          ]
        }
      ]
    },
    {
      "cell_type": "markdown",
      "source": [
        "### 2. 의왕 화성01 데이터 전처리"
      ],
      "metadata": {
        "id": "2hmi0VP1eYBg"
      }
    },
    {
      "cell_type": "code",
      "source": [
        "img_path = '/content/drive/MyDrive/Colab Notebooks/드론 이동체 인지 영상(도로 고정)/Validation/조난자_의왕_화성01'\n",
        "label_path = '/content/drive/MyDrive/Colab Notebooks/드론 이동체 인지 영상(도로 고정)/Validation/[라벨]조난자_의왕_화성01'\n",
        "imgs = os.listdir(img_path)\n",
        "labels = os.listdir(label_path)\n",
        "imgs.sort()\n",
        "labels.sort()\n",
        "print(len(imgs))\n",
        "print(len(labels))"
      ],
      "metadata": {
        "colab": {
          "base_uri": "https://localhost:8080/"
        },
        "id": "Zzv9jDYOc1IB",
        "outputId": "044d451b-2b32-4cf7-d8d7-6485b3a1a1a0"
      },
      "execution_count": null,
      "outputs": [
        {
          "output_type": "stream",
          "name": "stdout",
          "text": [
            "2531\n",
            "2531\n"
          ]
        }
      ]
    },
    {
      "cell_type": "code",
      "source": [
        "for i in range(len(imgs)):\n",
        "  name = imgs[i].replace('.jpg', '.json')\n",
        "  if name not in labels:\n",
        "    print(name)\n",
        "\n",
        "for i in range(len(imgs)):\n",
        "  name = labels[i].replace('.json', '.jpg')\n",
        "  if name not in imgs:\n",
        "    print(name)"
      ],
      "metadata": {
        "id": "_xrHRzvgdo3R"
      },
      "execution_count": null,
      "outputs": []
    },
    {
      "cell_type": "code",
      "source": [
        "dst_path = '/content/drive/MyDrive/jonanja_data/image/'\n",
        "dst_label = '/content/drive/MyDrive/jonanja_data/label/'\n",
        "useless = []\n",
        "for i in range(len(imgs)):\n",
        "  flag = True\n",
        "  image = cv2.imread(img_path+'/'+imgs[i])\n",
        "\n",
        "  cropped_img = image[0:2160, 0:2160]\n",
        "  #print(cropped_img.shape)\n",
        "  with open(label_path+'/'+labels[i]) as f:\n",
        "    data = json.load(f)\n",
        "    labeling_list = []\n",
        "     \n",
        "    annotations = data['annotations']\n",
        "    # height, width of image\n",
        "    height, width = data['metadata']['height'], data['metadata']['width']\n",
        "\n",
        "    for j in range(len(annotations)):\n",
        "      if annotations[j]['label'] == 'person':\n",
        "        class_id = 0\n",
        "        TL, BR = annotations[j]['points'][0],annotations[j]['points'][2]\n",
        "        TR, BL = annotations[j]['points'][1], annotations[j]['points'][3]\n",
        "        if BR[0]>=2160:\n",
        "          useless.append([i,labels[i]])\n",
        "          print(\"not gonna use {0} data\".format(i))\n",
        "          flag = False\n",
        "          \n",
        "\n",
        "        print(TL, BR)\n",
        "        center = ((TL[0]+BR[0])/2, (TL[1]+BR[1])/2) #(x,y)\n",
        "        bbox_width, bbox_height = BR[0]-TL[0], BR[1]-TL[1]\n",
        "        print(bbox_width, bbox_height)\n",
        "        x,y,w,h = center[0]/2160, center[1]/2160, bbox_width/2160, bbox_height/2160\n",
        "        print(class_id,x, y, w, h)\n",
        "        labeling_list.append((class_id, x, y, w, h))\n",
        "    if flag:\n",
        "      cv2.imwrite(dst_path+'jonanja'+str(i+1845)+'.jpg', cropped_img)\n",
        "      file = open(dst_label+'jonanja'+str(i+1845)+'.txt', 'w+')\n",
        "      file.write(''.join('%d %.6f %.6f %.6f %.6f' % label for label in labeling_list))\n",
        "      file.close()\n",
        "      print('files created for ',i+1845)\n",
        "      \n",
        "  #cv2.waitKey(0)\n",
        "  #cv2.destroyAllWindows()\n"
      ],
      "metadata": {
        "id": "oUhUuAT8en15"
      },
      "execution_count": null,
      "outputs": []
    },
    {
      "cell_type": "code",
      "source": [
        "dst_images = os.listdir(dst_path)\n",
        "dst_labels = os.listdir(dst_label)\n",
        "print(len(dst_images))\n",
        "print(len(dst_labels))\n",
        "\n",
        "for i in range(len(dst_images)):\n",
        "  name = dst_images[i].replace('.jpg', '.txt')\n",
        "  if name not in dst_labels:\n",
        "    print(name)"
      ],
      "metadata": {
        "colab": {
          "base_uri": "https://localhost:8080/"
        },
        "id": "DTR6RGT4faBB",
        "outputId": "40ac5a58-0502-4874-e8ba-8baf7e3c3605"
      },
      "execution_count": null,
      "outputs": [
        {
          "output_type": "stream",
          "name": "stdout",
          "text": [
            "2325\n",
            "2325\n"
          ]
        }
      ]
    },
    {
      "cell_type": "code",
      "source": [
        "before = cv2.imread(dst_path+dst_images[-1])\n",
        "print(before.shape)\n",
        "for i in range(len(dst_images)):\n",
        "  src = cv2.imread(dst_path+dst_images[i])\n",
        "  if src.shape[0] != 416:  \n",
        "    dst = cv2.resize(src, dsize=(416,416), interpolation=cv2.INTER_AREA)\n",
        "    cv2.imwrite(dst_path+dst_images[i], dst)\n",
        "\n",
        "\n",
        "changed = cv2.imread(dst_path+dst_images[-1])\n",
        "print(changed.shape)"
      ],
      "metadata": {
        "colab": {
          "base_uri": "https://localhost:8080/"
        },
        "id": "1Qvmzh53oqwc",
        "outputId": "79f23616-b4c8-4a7c-aa67-3133a82c04ab"
      },
      "execution_count": null,
      "outputs": [
        {
          "output_type": "stream",
          "name": "stdout",
          "text": [
            "(2160, 2160, 3)\n",
            "(416, 416, 3)\n"
          ]
        }
      ]
    },
    {
      "cell_type": "code",
      "source": [],
      "metadata": {
        "id": "YWVLL9sZo-wr"
      },
      "execution_count": null,
      "outputs": []
    }
  ]
}