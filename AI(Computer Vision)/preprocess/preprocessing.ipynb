{
  "nbformat": 4,
  "nbformat_minor": 0,
  "metadata": {
    "colab": {
      "provenance": []
    },
    "kernelspec": {
      "name": "python3",
      "display_name": "Python 3"
    },
    "language_info": {
      "name": "python"
    }
  },
  "cells": [
    {
      "cell_type": "code",
      "execution_count": 43,
      "metadata": {
        "id": "Zhd7d4IbB5Rr"
      },
      "outputs": [],
      "source": [
        "import sys\n",
        "import numpy as np\n",
        "import cv2\n",
        "import glob\n",
        "import json\n",
        "import os"
      ]
    },
    {
      "cell_type": "code",
      "source": [
        "from google.colab import drive\n",
        "drive.mount('/content/drive')"
      ],
      "metadata": {
        "id": "auw-ojKfEJe6"
      },
      "execution_count": null,
      "outputs": []
    },
    {
      "cell_type": "markdown",
      "source": [
        "* JSON --> txt\n",
        "* 이미지 크기 - 3840x2160 --> 1280x720 ...?\n",
        "* class, x, y, w, h 형태로 변환"
      ],
      "metadata": {
        "id": "8ZMS--yvFQA_"
      }
    },
    {
      "cell_type": "markdown",
      "source": [],
      "metadata": {
        "id": "uDSQL4jqFQOJ"
      }
    },
    {
      "cell_type": "code",
      "source": [
        "!cd /content/drive/MyDrive/Colab\\ Notebooks/드론이동체_전방고정_sample/샘플_농약살포/2020-12-14/Pyeongtaek/land/AM"
      ],
      "metadata": {
        "colab": {
          "base_uri": "https://localhost:8080/"
        },
        "id": "CRAezdv6CDy2",
        "outputId": "6f7ceb8f-558c-4ad1-f856-4c8f859e3ed8"
      },
      "execution_count": 23,
      "outputs": [
        {
          "output_type": "stream",
          "name": "stdout",
          "text": [
            "/content\n"
          ]
        }
      ]
    },
    {
      "cell_type": "code",
      "source": [
        "!pwd"
      ],
      "metadata": {
        "colab": {
          "base_uri": "https://localhost:8080/"
        },
        "id": "7P5Js9ZHFOEy",
        "outputId": "74f1930e-db12-47b6-f98a-92d4c39d7b4a"
      },
      "execution_count": 21,
      "outputs": [
        {
          "output_type": "stream",
          "name": "stdout",
          "text": [
            "/content\n"
          ]
        }
      ]
    },
    {
      "cell_type": "code",
      "source": [
        "with open('6-FLY-AI07-SUN-10M-80-LAND-Pyeongtaek-1214-09-09-28-L-N_0000134.json', 'r') as f:\n",
        "  json_data = json.load(f)\n",
        "print(json.dumps(json_data, indent='\\t'))"
      ],
      "metadata": {
        "colab": {
          "base_uri": "https://localhost:8080/"
        },
        "id": "Os5qmHciDCHG",
        "outputId": "36363545-308b-4be8-9801-327c46bd7c09"
      },
      "execution_count": 30,
      "outputs": [
        {
          "output_type": "stream",
          "name": "stdout",
          "text": [
            "{\n",
            "\t\"annotations\": [\n",
            "\t\t{\n",
            "\t\t\t\"id\": \"b9065bf9-8662-4b7b-a545-799d3b43e956\",\n",
            "\t\t\t\"type\": \"bbox\",\n",
            "\t\t\t\"attributes\": {\n",
            "\t\t\t\t\"group\": \"group\"\n",
            "\t\t\t},\n",
            "\t\t\t\"points\": [\n",
            "\t\t\t\t[\n",
            "\t\t\t\t\t1575,\n",
            "\t\t\t\t\t910\n",
            "\t\t\t\t],\n",
            "\t\t\t\t[\n",
            "\t\t\t\t\t1641,\n",
            "\t\t\t\t\t910\n",
            "\t\t\t\t],\n",
            "\t\t\t\t[\n",
            "\t\t\t\t\t1641,\n",
            "\t\t\t\t\t1058\n",
            "\t\t\t\t],\n",
            "\t\t\t\t[\n",
            "\t\t\t\t\t1575,\n",
            "\t\t\t\t\t1058\n",
            "\t\t\t\t]\n",
            "\t\t\t],\n",
            "\t\t\t\"label\": \"person\"\n",
            "\t\t},\n",
            "\t\t{\n",
            "\t\t\t\"id\": \"ae63e7f0-9a47-43ec-97f7-8e187e6ffc72\",\n",
            "\t\t\t\"type\": \"bbox\",\n",
            "\t\t\t\"attributes\": {\n",
            "\t\t\t\t\"group\": \"single\"\n",
            "\t\t\t},\n",
            "\t\t\t\"points\": [\n",
            "\t\t\t\t[\n",
            "\t\t\t\t\t1735,\n",
            "\t\t\t\t\t822\n",
            "\t\t\t\t],\n",
            "\t\t\t\t[\n",
            "\t\t\t\t\t1924,\n",
            "\t\t\t\t\t822\n",
            "\t\t\t\t],\n",
            "\t\t\t\t[\n",
            "\t\t\t\t\t1924,\n",
            "\t\t\t\t\t1065\n",
            "\t\t\t\t],\n",
            "\t\t\t\t[\n",
            "\t\t\t\t\t1735,\n",
            "\t\t\t\t\t1065\n",
            "\t\t\t\t]\n",
            "\t\t\t],\n",
            "\t\t\t\"label\": \"vehicle\"\n",
            "\t\t}\n",
            "\t],\n",
            "\t\"attributes\": {},\n",
            "\t\"filename\": \"6-FLY-AI07-SUN-10M-80-LAND-Pyeongtaek-1214-09-09-28-L-N_0000134.jpg\",\n",
            "\t\"parent_path\": \"/2020-12-14/Pyeongtaek/land/AM\",\n",
            "\t\"metadata\": {\n",
            "\t\t\"height\": 2160,\n",
            "\t\t\"width\": 3840\n",
            "\t},\n",
            "\t\"Metadata\": {\n",
            "\t\t\"mission-id\": \"06\",\n",
            "\t\t\"status\": \"MISSION\",\n",
            "\t\t\"drone-id\": \"AI07\",\n",
            "\t\t\"weather\": \"SUN\",\n",
            "\t\t\"time\": \"AM\",\n",
            "\t\t\"altitude\": 10,\n",
            "\t\t\"angle\": 80,\n",
            "\t\t\"places\": \"land\",\n",
            "\t\t\"location\": null,\n",
            "\t\t\"date\": \"2020-12-14\",\n",
            "\t\t\"hour\": \"09-09\",\n",
            "\t\t\"stereo camera\": \"L\",\n",
            "\t\t\"de-identification\": \"N\"\n",
            "\t}\n",
            "}\n"
          ]
        }
      ]
    },
    {
      "cell_type": "code",
      "source": [
        "json_data['annotations'][0]['label']"
      ],
      "metadata": {
        "colab": {
          "base_uri": "https://localhost:8080/",
          "height": 35
        },
        "id": "glGN58Y4ETji",
        "outputId": "bceee04c-0763-4197-fecd-d9f71cad4249"
      },
      "execution_count": 34,
      "outputs": [
        {
          "output_type": "execute_result",
          "data": {
            "text/plain": [
              "'person'"
            ],
            "application/vnd.google.colaboratory.intrinsic+json": {
              "type": "string"
            }
          },
          "metadata": {},
          "execution_count": 34
        }
      ]
    },
    {
      "cell_type": "code",
      "source": [
        "height, width = json_data['metadata']['height'], json_data['metadata']['width']\n",
        "\n",
        "for i in range(len(json_data['annotations'])):\n",
        "      if json_data['annotations'][i]['label'] == 'person':\n",
        "        TL, BR = json_data['annotations'][i]['points'][0],json_data['annotations'][i]['points'][2]\n",
        "        print(TL, BR)\n",
        "        center = ((TL[0]+BR[0])/2, (TL[1]+BR[1])/2)\n",
        "        bbox_width, bbox_height = BR[0]-TL[0], BR[1]-TL[1]\n",
        "        print(bbox_width, bbox_height)\n",
        "        x,y,w,h = center[0]/width, center[1]/height, bbox_width/width, bbox_height/height\n",
        "        print(x, y, w, h)\n"
      ],
      "metadata": {
        "colab": {
          "base_uri": "https://localhost:8080/"
        },
        "id": "B0h3Tet4QLzr",
        "outputId": "3acc9549-d4dc-4459-f19b-5fc574deb527"
      },
      "execution_count": 42,
      "outputs": [
        {
          "output_type": "stream",
          "name": "stdout",
          "text": [
            "[1575, 910] [1641, 1058]\n",
            "66 148\n",
            "0.41875 0.45555555555555555 0.0171875 0.06851851851851852\n"
          ]
        }
      ]
    },
    {
      "cell_type": "code",
      "source": [
        "json_path = ''\n",
        "json_files = sorted(glob.glob(os.path.join(json_path, '*.json')))  \n",
        "\n",
        "for json_file in json_files:\n",
        "  with open(json_file) as f:\n",
        "    labeling_list = []\n",
        "    image_name = json_file.split('.json', '.txt')\n",
        "    data = json.load(f)  #  json       \n",
        "    annotations = data['annotations']\n",
        "    # height, width of image\n",
        "    height, width = json_data['metadata']['height'], json_data['metadata']['width']\n",
        "\n",
        "    for i in range(len(annotations)):\n",
        "      if annotations[i]['label'] == 'person':\n",
        "        class_id = 0\n",
        "        TL, BR = annotations[i]['points'][0],annotations[i]['points'][2]\n",
        "        print(TL, BR)\n",
        "        center = ((TL[0]+BR[0])/2, (TL[1]+BR[1])/2)\n",
        "        bbox_width, bbox_height = BR[0]-TL[0], BR[1]-TL[1]\n",
        "        print(bbox_width, bbox_height)\n",
        "        x,y,w,h = center[0]/width, center[1]/height, bbox_width/width, bbox_height/height\n",
        "        print(class_id,x, y, w, h)\n",
        "        labeling_list.append((class_id, x, y, w, h))\n",
        "\n",
        "    file = open(image_name, 'w+')\n",
        "    file.write(''.join('%d %.6f %.6f %.6f %.6f' % label for label in labeling_list))\n",
        "    file.close()"
      ],
      "metadata": {
        "colab": {
          "base_uri": "https://localhost:8080/",
          "height": 248
        },
        "id": "FasM-7akGTrr",
        "outputId": "10c5663d-a691-4334-f9a1-a5be473b76e0"
      },
      "execution_count": 44,
      "outputs": [
        {
          "output_type": "error",
          "ename": "TypeError",
          "evalue": "ignored",
          "traceback": [
            "\u001b[0;31m---------------------------------------------------------------------------\u001b[0m",
            "\u001b[0;31mTypeError\u001b[0m                                 Traceback (most recent call last)",
            "\u001b[0;32m<ipython-input-44-c6b23d2d2950>\u001b[0m in \u001b[0;36m<module>\u001b[0;34m\u001b[0m\n\u001b[1;32m      5\u001b[0m   \u001b[0;32mwith\u001b[0m \u001b[0mopen\u001b[0m\u001b[0;34m(\u001b[0m\u001b[0mjson_file\u001b[0m\u001b[0;34m)\u001b[0m \u001b[0;32mas\u001b[0m \u001b[0mf\u001b[0m\u001b[0;34m:\u001b[0m\u001b[0;34m\u001b[0m\u001b[0;34m\u001b[0m\u001b[0m\n\u001b[1;32m      6\u001b[0m     \u001b[0mlabeling_list\u001b[0m \u001b[0;34m=\u001b[0m \u001b[0;34m[\u001b[0m\u001b[0;34m]\u001b[0m\u001b[0;34m\u001b[0m\u001b[0;34m\u001b[0m\u001b[0m\n\u001b[0;32m----> 7\u001b[0;31m     \u001b[0mimage_name\u001b[0m \u001b[0;34m=\u001b[0m \u001b[0mjson_file\u001b[0m\u001b[0;34m.\u001b[0m\u001b[0msplit\u001b[0m\u001b[0;34m(\u001b[0m\u001b[0;34m'.json'\u001b[0m\u001b[0;34m,\u001b[0m \u001b[0;34m'.txt'\u001b[0m\u001b[0;34m)\u001b[0m\u001b[0;34m\u001b[0m\u001b[0;34m\u001b[0m\u001b[0m\n\u001b[0m\u001b[1;32m      8\u001b[0m     \u001b[0mdata\u001b[0m \u001b[0;34m=\u001b[0m \u001b[0mjson\u001b[0m\u001b[0;34m.\u001b[0m\u001b[0mload\u001b[0m\u001b[0;34m(\u001b[0m\u001b[0mf\u001b[0m\u001b[0;34m)\u001b[0m  \u001b[0;31m#  json\u001b[0m\u001b[0;34m\u001b[0m\u001b[0;34m\u001b[0m\u001b[0m\n\u001b[1;32m      9\u001b[0m     \u001b[0mannotations\u001b[0m \u001b[0;34m=\u001b[0m \u001b[0mdata\u001b[0m\u001b[0;34m[\u001b[0m\u001b[0;34m'annotations'\u001b[0m\u001b[0;34m]\u001b[0m\u001b[0;34m\u001b[0m\u001b[0;34m\u001b[0m\u001b[0m\n",
            "\u001b[0;31mTypeError\u001b[0m: 'str' object cannot be interpreted as an integer"
          ]
        }
      ]
    },
    {
      "cell_type": "code",
      "source": [],
      "metadata": {
        "id": "WNP3pR_LJH4R"
      },
      "execution_count": null,
      "outputs": []
    }
  ]
}